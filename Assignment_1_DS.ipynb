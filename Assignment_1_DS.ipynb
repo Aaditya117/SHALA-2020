{
  "nbformat": 4,
  "nbformat_minor": 0,
  "metadata": {
    "colab": {
      "name": "Assignment -1 - DS.ipynb",
      "provenance": [],
      "collapsed_sections": [],
      "include_colab_link": true
    },
    "kernelspec": {
      "name": "python3",
      "display_name": "Python 3"
    }
  },
  "cells": [
    {
      "cell_type": "markdown",
      "metadata": {
        "id": "view-in-github",
        "colab_type": "text"
      },
      "source": [
        "<a href=\"https://colab.research.google.com/github/Aaditya117/SHALA-2020/blob/master/Assignment_1_DS.ipynb\" target=\"_parent\"><img src=\"https://colab.research.google.com/assets/colab-badge.svg\" alt=\"Open In Colab\"/></a>"
      ]
    },
    {
      "cell_type": "markdown",
      "metadata": {
        "id": "hmr2U-GChnlR",
        "colab_type": "text"
      },
      "source": [
        "\n",
        "# **Assignment - 1 : Getting Started**\n",
        "\n",
        "---\n",
        "\n",
        "This assignment will get you familiarized with python libraries required for ***data science*** and ***machine learning***. You will have to complete the code snippets and run them. "
      ]
    },
    {
      "cell_type": "markdown",
      "metadata": {
        "id": "211pD45xEO0u",
        "colab_type": "text"
      },
      "source": [
        "## **Note :**   Use only the methods and attributes of the ```numpy``` library. **Do not** hard-code them. Avoid loops as much as possible."
      ]
    },
    {
      "cell_type": "markdown",
      "metadata": {
        "id": "O7v9C4mun3SQ",
        "colab_type": "text"
      },
      "source": [
        "---\n",
        "## Part - 1\n",
        " In this part, you will work with the library ```numpy```. \n",
        "\n",
        "\n"
      ]
    },
    {
      "cell_type": "markdown",
      "metadata": {
        "id": "846yDaXQwiMD",
        "colab_type": "text"
      },
      "source": [
        "Import ```numpy``` with an alias name ```np```. Initialize two arrays $a$, $b$ of size $3 \\times 5$ with random values and print them. "
      ]
    },
    {
      "cell_type": "code",
      "metadata": {
        "id": "_MyeCO3_o3oq",
        "colab_type": "code",
        "colab": {
          "base_uri": "https://localhost:8080/",
          "height": 119
        },
        "outputId": "16448c6f-0e24-400f-c6f4-b8b80d3bb76d"
      },
      "source": [
        "import numpy as np\n",
        "a = np.random.rand(3,5)\n",
        "b = np.random.rand(3,5)\n",
        "print('a = {}'.format(a))\n",
        "print('b = {}'.format(b))"
      ],
      "execution_count": 1,
      "outputs": [
        {
          "output_type": "stream",
          "text": [
            "a = [[0.3745032  0.25930916 0.1114529  0.90195776 0.58780457]\n",
            " [0.91504528 0.14380501 0.92039412 0.73221669 0.88294581]\n",
            " [0.34648492 0.02264552 0.44906297 0.55876649 0.64304573]]\n",
            "b = [[0.4999578  0.95164147 0.33923684 0.60070241 0.35725392]\n",
            " [0.49174639 0.03717603 0.89622723 0.86193522 0.74745275]\n",
            " [0.06188627 0.73304209 0.33821868 0.70399126 0.50551472]]\n"
          ],
          "name": "stdout"
        }
      ]
    },
    {
      "cell_type": "markdown",
      "metadata": {
        "id": "p7jtpYT4wiO6",
        "colab_type": "text"
      },
      "source": [
        "Initialize and print two arrays $c$ and $d$ having the following properties:\n",
        "*   $c$ is a row vector with all non-negative integer values less than 100\n",
        "* $d$ is a square matrix of size 3 having all entries as 0.0"
      ]
    },
    {
      "cell_type": "code",
      "metadata": {
        "id": "a2lJdRf8x9f2",
        "colab_type": "code",
        "colab": {
          "base_uri": "https://localhost:8080/",
          "height": 153
        },
        "outputId": "60fe824d-62f1-4a31-a339-533c114c47d5"
      },
      "source": [
        "c = np.arange(0,100,1,dtype= int)\n",
        "d = np.zeros((3,3))\n",
        "print('c = {}'.format(c))\n",
        "print('d = {}'.format(d))"
      ],
      "execution_count": 3,
      "outputs": [
        {
          "output_type": "stream",
          "text": [
            "c = [ 0  1  2  3  4  5  6  7  8  9 10 11 12 13 14 15 16 17 18 19 20 21 22 23\n",
            " 24 25 26 27 28 29 30 31 32 33 34 35 36 37 38 39 40 41 42 43 44 45 46 47\n",
            " 48 49 50 51 52 53 54 55 56 57 58 59 60 61 62 63 64 65 66 67 68 69 70 71\n",
            " 72 73 74 75 76 77 78 79 80 81 82 83 84 85 86 87 88 89 90 91 92 93 94 95\n",
            " 96 97 98 99]\n",
            "d = [[0. 0. 0.]\n",
            " [0. 0. 0.]\n",
            " [0. 0. 0.]]\n"
          ],
          "name": "stdout"
        }
      ]
    },
    {
      "cell_type": "markdown",
      "metadata": {
        "id": "qqgtSsa88Zmh",
        "colab_type": "text"
      },
      "source": [
        "We have $e$ as following : ```e = [[1,2,3],[4,5,6],[7,8,9]]```. Change $e$ as a numpy array and print it."
      ]
    },
    {
      "cell_type": "code",
      "metadata": {
        "id": "Krhm4bVE7RET",
        "colab_type": "code",
        "colab": {
          "base_uri": "https://localhost:8080/",
          "height": 68
        },
        "outputId": "bd2aefb9-5534-4b11-f616-a3de987ae2e3"
      },
      "source": [
        "e = [[1,2,3],[4,5,6],[7,8,9]]\n",
        "e = np.array(e)\n",
        "print('e = {}'.format(e))\n"
      ],
      "execution_count": 5,
      "outputs": [
        {
          "output_type": "stream",
          "text": [
            "e = [[1 2 3]\n",
            " [4 5 6]\n",
            " [7 8 9]]\n"
          ],
          "name": "stdout"
        }
      ]
    },
    {
      "cell_type": "markdown",
      "metadata": {
        "id": "1qTikI0foam9",
        "colab_type": "text"
      },
      "source": [
        "$f$ and $g$ are two square matrices of size 5 such that all the entries of $f$ are 1 and $g$ is an identity matrix. Initialize them and print them"
      ]
    },
    {
      "cell_type": "code",
      "metadata": {
        "id": "DvaLckI49aBV",
        "colab_type": "code",
        "colab": {
          "base_uri": "https://localhost:8080/",
          "height": 187
        },
        "outputId": "fc7073ce-a2a0-4c6b-ef07-d591f545c313"
      },
      "source": [
        "f = np.ones((5,5),dtype=int)\n",
        "g = np.eye(5,dtype=int)\n",
        "print('f = {}'.format(f))\n",
        "print('g = {}'.format(g))"
      ],
      "execution_count": 6,
      "outputs": [
        {
          "output_type": "stream",
          "text": [
            "f = [[1 1 1 1 1]\n",
            " [1 1 1 1 1]\n",
            " [1 1 1 1 1]\n",
            " [1 1 1 1 1]\n",
            " [1 1 1 1 1]]\n",
            "g = [[1 0 0 0 0]\n",
            " [0 1 0 0 0]\n",
            " [0 0 1 0 0]\n",
            " [0 0 0 1 0]\n",
            " [0 0 0 0 1]]\n"
          ],
          "name": "stdout"
        }
      ]
    },
    {
      "cell_type": "markdown",
      "metadata": {
        "id": "gcBZAZibAKcg",
        "colab_type": "text"
      },
      "source": [
        "Reshape $c$ into a $10 \\times 10$ matrix and name it $h$. Now flatten $h$, call it $c^\\prime$ and print **YES** when the shapes of $c$ and $c^\\prime$ are same. Otherwise print **NO**."
      ]
    },
    {
      "cell_type": "code",
      "metadata": {
        "id": "I71vtO9bA9Pi",
        "colab_type": "code",
        "colab": {
          "base_uri": "https://localhost:8080/",
          "height": 34
        },
        "outputId": "3d7c6490-b92c-49d7-ee80-f866623f0ede"
      },
      "source": [
        "h = c.reshape((10,10))\n",
        "c1 = h.flatten()\n",
        "if (np.shape(c) == np.shape(c1)) :\n",
        "   print(\"YES\")\n",
        "else:\n",
        "   print(\"NO\")"
      ],
      "execution_count": 7,
      "outputs": [
        {
          "output_type": "stream",
          "text": [
            "YES\n"
          ],
          "name": "stdout"
        }
      ]
    },
    {
      "cell_type": "markdown",
      "metadata": {
        "id": "8FrecDPiA-Bv",
        "colab_type": "text"
      },
      "source": [
        "Let $A$ denote a randomly initialized three dimensional matrix of shape (2,10,5). Transpose $A$, call it $A^\\prime$, such that its shape is (5,2,10) and print it."
      ]
    },
    {
      "cell_type": "code",
      "metadata": {
        "id": "VbOKqSm6Bkaq",
        "colab_type": "code",
        "colab": {
          "base_uri": "https://localhost:8080/",
          "height": 442
        },
        "outputId": "4d9049ea-593b-4159-f89e-f9ccc4ec5ab5"
      },
      "source": [
        "A = np.random.rand(2,10,5)\n",
        "A1 = A.transpose(2,0,1)\n",
        "print(print('A1 = {}'.format(A1)))\n"
      ],
      "execution_count": 10,
      "outputs": [
        {
          "output_type": "stream",
          "text": [
            "A1 = [[[0.00334074 0.41601754 0.11941064 0.74316687 0.03847563 0.1674991\n",
            "   0.56660829 0.54444385 0.06535916 0.28842868]\n",
            "  [0.30859498 0.03797569 0.78128805 0.49407732 0.542519   0.51673501\n",
            "   0.37000348 0.54937171 0.7210366  0.97509252]]\n",
            "\n",
            " [[0.62163226 0.25661228 0.94744175 0.13245915 0.87564199 0.67815993\n",
            "   0.42689532 0.30378524 0.25266264 0.05876038]\n",
            "  [0.91024481 0.90207642 0.32325519 0.1758889  0.07335546 0.69908166\n",
            "   0.59814346 0.75989671 0.12314237 0.18397775]]\n",
            "\n",
            " [[0.46310371 0.75497869 0.54064803 0.00512783 0.00099711 0.91682524\n",
            "   0.76730043 0.97175643 0.24286185 0.30636363]\n",
            "  [0.76399817 0.70731123 0.63234316 0.09553072 0.23684779 0.40173474\n",
            "   0.42046965 0.87578993 0.32128008 0.77913526]]\n",
            "\n",
            " [[0.21223318 0.18577869 0.47758386 0.74005816 0.25703241 0.48796554\n",
            "   0.35663009 0.39190139 0.97510292 0.86589641]\n",
            "  [0.90104845 0.97760342 0.32840522 0.42044145 0.39294446 0.23987595\n",
            "   0.34864919 0.63780726 0.30219579 0.18411195]]\n",
            "\n",
            " [[0.92669618 0.14187616 0.2270164  0.86380992 0.46620135 0.66930006\n",
            "   0.25581514 0.46963713 0.34069625 0.91880035]\n",
            "  [0.52182307 0.41590083 0.28170837 0.76778867 0.62365802 0.79297487\n",
            "   0.77465231 0.06138187 0.65125294 0.6077431 ]]]\n",
            "None\n"
          ],
          "name": "stdout"
        }
      ]
    },
    {
      "cell_type": "markdown",
      "metadata": {
        "id": "xR2zd-nkCani",
        "colab_type": "text"
      },
      "source": [
        "You have a matrix $X$ of size (10,5) filled with random values. Print the following :\n",
        "* Minimum value and index where it occured, for each column\n",
        "* Maximum value and the index where it occured, for each column\n",
        "* Minimum value and index where it occured, for each row\n",
        "* Maximum value and index where it occured, for each row\n",
        "* Minimum value and index where it occured, for the entire matrix\n",
        "* Maximum value and index where it occured, for the entire matrix"
      ]
    },
    {
      "cell_type": "code",
      "metadata": {
        "id": "FR2Wd4fWD_Og",
        "colab_type": "code",
        "colab": {
          "base_uri": "https://localhost:8080/",
          "height": 187
        },
        "outputId": "e4d7877d-265c-4d8b-e6b5-d4ef68bf5159"
      },
      "source": [
        "np.random.seed(0)\n",
        "X = np.random.rand(10,5)\n",
        "print(\"min_col(X) = {}\".format(np.min(X, axis=0)))\n",
        "print(\"argmin_col(X) = {}\".format(np.argmin(X, axis=0)))\n",
        "print(\"max_col(X) = {}\".format(np.max(X, axis=0)))\n",
        "print(\"argmax_col(X) = {}\".format(np.argmax(X, axis=0)))\n",
        "print(\"min_row(X) = {}\".format(np.min(X, axis=1)))\n",
        "print(\"argmin_row(X) = {}\".format(np.argmin(X, axis=1)))\n",
        "print(\"max_row(X) = {}\".format(np.max(X, axis=1)))\n",
        "print(\"argmax_row(X) = {}\".format(np.argmax(X, axis=1)))\n"
      ],
      "execution_count": 13,
      "outputs": [
        {
          "output_type": "stream",
          "text": [
            "min_col(X) = [0.0871293  0.0202184  0.1289263  0.06022547 0.0187898 ]\n",
            "argmin_col(X) = [3 3 9 8 6]\n",
            "max_col(X) = [0.97861834 0.79915856 0.94466892 0.96366276 0.87001215]\n",
            "argmax_col(X) = [4 4 5 1 3]\n",
            "min_row(X) = [0.4236548  0.38344152 0.07103606 0.0202184  0.11827443 0.14335329\n",
            " 0.0187898  0.61209572 0.06022547 0.1289263 ]\n",
            "argmin_row(X) = [4 4 4 1 4 1 4 1 3 2]\n",
            "max_row(X) = [0.71518937 0.96366276 0.92559664 0.87001215 0.97861834 0.94466892\n",
            " 0.77423369 0.94374808 0.6976312  0.67063787]\n",
            "argmax_row(X) = [1 3 3 4 0 2 1 3 2 0]\n"
          ],
          "name": "stdout"
        }
      ]
    },
    {
      "cell_type": "markdown",
      "metadata": {
        "id": "YpjW2ypkEGtS",
        "colab_type": "text"
      },
      "source": [
        "Find and print the following for the matrix X: \n",
        "* Mean of each row and column\n",
        "* Standard deviation of each row and column\n",
        "* Mean of the entire matrix\n",
        "* Standard deviation of entire matrix"
      ]
    },
    {
      "cell_type": "code",
      "metadata": {
        "id": "gMdm2pw0GWjf",
        "colab_type": "code",
        "colab": {}
      },
      "source": [
        ""
      ],
      "execution_count": 0,
      "outputs": []
    },
    {
      "cell_type": "markdown",
      "metadata": {
        "id": "7dw7W8HOGXKA",
        "colab_type": "text"
      },
      "source": [
        "Let $Y$ denote a square matrix of size 10 with random values. Print the following:\n",
        "* Determinant\n",
        "* Rank of the matrix\n",
        "* Diagonal Elements\n",
        "* Trace\n",
        "* Eigen values\n",
        "* Matrices obtained after Singular Value Decomposition\n",
        "* Inverse if exists, otherwise Pseudo-Inverse\n",
        "* Multiplication $Y$ with $X$\n",
        "* Element-wise multiplication of $Y$ and its inverse(or pseudo-inverse)"
      ]
    },
    {
      "cell_type": "code",
      "metadata": {
        "id": "Tswbn9hgL7yi",
        "colab_type": "code",
        "colab": {
          "base_uri": "https://localhost:8080/",
          "height": 1000
        },
        "outputId": "14b1f2de-2055-4122-b55d-8a899de2a291"
      },
      "source": [
        "np.random.seed(3)\n",
        "Y = np.random.rand(10,10)\n",
        "#determinant\n",
        "det = np.linalg.det(Y)\n",
        "print(\"determinant(Y)= {}\".format(det))\n",
        "#rank of Y\n",
        "rank = np.linalg.matrix_rank(Y)\n",
        "print(\"rank(Y)= {}\".format(rank))\n",
        "#Diagonal Elements of Y\n",
        "diag = np.diag(Y)\n",
        "print(\"diag(Y)= {}\".format(diag))\n",
        "#Trace of Y\n",
        "trace = np.trace(Y)\n",
        "print(\"trace(Y)= {}\".format(trace))\n",
        "#Eigen values,Eigen vectors of Y\n",
        "eigen_val,eigen_vec = np.linalg.eig(Y)\n",
        "print(\"the eigen values of Y:\\n{}\".format(eigen_val))\n",
        "print(\"the the right eigen vectors of Y:\\n{}\".format(eigen_vec))\n",
        "# SVD matrices of Y\n",
        "u,s,vh = np.linalg.svd(Y)\n",
        "print(\"U of Y is :\\n{}\".format(u))\n",
        "print(\"V of Y is :\\n{}\".format(vh))\n",
        "print(\"singular values of Y are :\\n{}\".format(s))\n",
        "#inverse\n",
        "inv_Y = np.linalg.inv(Y)\n",
        "if (inv_Y == \"LinAlgError\"):\n",
        "     inv_Y == np.linalg.pinv(Y)\n",
        "print(\"the inverse of matrix Y is:\\n{}\".format(inv_Y))\n",
        "#matrix multiplication\n",
        "Z = np.matmul(Y,X)\n",
        "print(\"the matrix multiplication of X and Y is:\\n{}\".format(Z))\n",
        "#matrix multiplication(element wise)\n",
        "J = np.dot(Y,inv_Y)\n",
        "print(\"the matrix multiplication of Y and inv_Y is:\\n{}\".format(J))\n"
      ],
      "execution_count": 17,
      "outputs": [
        {
          "output_type": "stream",
          "text": [
            "determinant(Y)= -0.012807808169095483\n",
            "rank(Y)= 10\n",
            "diag(Y)= [0.5507979  0.45683322 0.44045372 0.84575087 0.4576864  0.36217621\n",
            " 0.06152893 0.19897603 0.92672568 0.19638058]\n",
            "trace(Y)= 4.497309545724899\n",
            "the eigen values of Y:\n",
            "[ 4.797525  +0.j          0.72411408+0.52238181j  0.72411408-0.52238181j\n",
            " -0.48250062+0.55413671j -0.48250062-0.55413671j -0.6909002 +0.j\n",
            " -0.25905659+0.32357377j -0.25905659-0.32357377j  0.2127855 +0.08352477j\n",
            "  0.2127855 -0.08352477j]\n",
            "the the right eigen vectors of Y:\n",
            "[[ 0.29593906+0.j          0.14213977+0.19798456j  0.14213977-0.19798456j\n",
            "  -0.37236549+0.00325385j -0.37236549-0.00325385j -0.1096481 +0.j\n",
            "  -0.0132423 +0.12273111j -0.0132423 -0.12273111j -0.56228934-0.10973258j\n",
            "  -0.56228934+0.10973258j]\n",
            " [ 0.25059285+0.j          0.01404552+0.1967944j   0.01404552-0.1967944j\n",
            "  -0.16781094-0.17307308j -0.16781094+0.17307308j -0.29711444+0.j\n",
            "  -0.04108937-0.4113554j  -0.04108937+0.4113554j   0.61892544+0.j\n",
            "   0.61892544-0.j        ]\n",
            " [ 0.31416894+0.j         -0.24186998+0.15655466j -0.24186998-0.15655466j\n",
            "  -0.16993115+0.15284371j -0.16993115-0.15284371j  0.36362726+0.j\n",
            "  -0.10206063+0.15541211j -0.10206063-0.15541211j  0.16701388+0.18450241j\n",
            "   0.16701388-0.18450241j]\n",
            " [ 0.36027404+0.j          0.52448941+0.j          0.52448941-0.j\n",
            "   0.48969059+0.j          0.48969059-0.j          0.17074825+0.j\n",
            "   0.14078898+0.01851681j  0.14078898-0.01851681j -0.13278372+0.03975259j\n",
            "  -0.13278372-0.03975259j]\n",
            " [ 0.27990836+0.j         -0.13624801+0.01805996j -0.13624801-0.01805996j\n",
            "  -0.0731246 -0.10412128j -0.0731246 +0.10412128j  0.13537705+0.j\n",
            "  -0.29263074+0.368267j   -0.29263074-0.368267j   -0.07942445-0.1381196j\n",
            "  -0.07942445+0.1381196j ]\n",
            " [ 0.30697292+0.j         -0.2288709 -0.09164898j -0.2288709 +0.09164898j\n",
            "   0.34166486-0.10037728j  0.34166486+0.10037728j  0.38961338+0.j\n",
            "   0.1575938 -0.27237341j  0.1575938 +0.27237341j -0.05056956+0.01833742j\n",
            "  -0.05056956-0.01833742j]\n",
            " [ 0.28526996+0.j         -0.07276121-0.22120787j -0.07276121+0.22120787j\n",
            "  -0.09920762+0.30369397j -0.09920762-0.30369397j -0.38942645+0.j\n",
            "  -0.35795075-0.21303717j -0.35795075+0.21303717j  0.25824685-0.05397791j\n",
            "   0.25824685+0.05397791j]\n",
            " [ 0.23358056+0.j          0.33195752+0.22875065j  0.33195752-0.22875065j\n",
            "   0.22899202+0.29805206j  0.22899202-0.29805206j -0.15526644+0.j\n",
            "   0.47450761+0.j          0.47450761-0.j          0.01343252-0.05360821j\n",
            "   0.01343252+0.05360821j]\n",
            " [ 0.39548419+0.j         -0.14569343-0.47441452j -0.14569343+0.47441452j\n",
            "  -0.29937425-0.1334132j  -0.29937425+0.1334132j   0.26931546+0.j\n",
            "   0.07126882+0.08476271j  0.07126882-0.08476271j -0.02419704-0.00279054j\n",
            "  -0.02419704+0.00279054j]\n",
            " [ 0.3952166 +0.j         -0.02644966-0.01254236j -0.02644966+0.01254236j\n",
            "   0.09200666-0.09461051j  0.09200666+0.09461051j -0.5656002 +0.j\n",
            "   0.04736886+0.16022229j  0.04736886-0.16022229j -0.31202472+0.09318458j\n",
            "  -0.31202472-0.09318458j]]\n",
            "U of Y is :\n",
            "[[-0.31776408 -0.02455508 -0.60644878 -0.17883359 -0.12672161  0.14873878\n",
            "  -0.17823942 -0.52859453 -0.02295855 -0.38570883]\n",
            " [-0.26118514 -0.10864541 -0.24911354  0.26547359  0.52168399 -0.25773901\n",
            "  -0.46995326  0.21752636 -0.39285046  0.16234491]\n",
            " [-0.31347907 -0.34483471 -0.25292297  0.1214296   0.1486964   0.33436315\n",
            "   0.54080229  0.48017168  0.05660692 -0.20966421]\n",
            " [-0.35815379  0.59490017  0.30255161  0.15850614 -0.11046295  0.3051409\n",
            "   0.07395537  0.03044889 -0.50561658 -0.18384856]\n",
            " [-0.28385845 -0.18085696 -0.1583078   0.10535533 -0.46807835 -0.08377643\n",
            "   0.24075452 -0.16170764 -0.24786952  0.69201648]\n",
            " [-0.28871348 -0.27577124  0.40271105  0.60433658  0.11931679 -0.04899205\n",
            "   0.02593316 -0.44875145  0.27874747 -0.12964796]\n",
            " [-0.27897316  0.00398904  0.20819753 -0.52536617  0.41116881 -0.41991923\n",
            "   0.42687225 -0.24145621 -0.12958507 -0.00984813]\n",
            " [-0.24788529  0.48136836 -0.15792433 -0.02303902  0.3246308   0.25755952\n",
            "  -0.01429533 -0.03088365  0.56052488  0.44079262]\n",
            " [-0.37505167 -0.36728578  0.39799373 -0.45186801 -0.10830044  0.34456765\n",
            "  -0.4447402   0.14147957  0.0716725   0.09192695]\n",
            " [-0.40049601  0.19846099 -0.02705464  0.02500837 -0.39745062 -0.57941613\n",
            "  -0.10288216  0.3673956   0.33321483 -0.22039139]]\n",
            "V of Y is :\n",
            "[[-0.28816735 -0.35560525 -0.33294235 -0.33250662 -0.36658188 -0.3625847\n",
            "  -0.26573249 -0.23278667 -0.30457183 -0.29270444]\n",
            " [ 0.53693497  0.11306854  0.39562078  0.25099719 -0.07369559 -0.37753546\n",
            "  -0.08584363  0.00333609 -0.2399022  -0.51623983]\n",
            " [-0.084609   -0.22589744 -0.00306935  0.1954239  -0.327784   -0.49318928\n",
            "   0.42323124  0.18588504  0.58200169  0.02301787]\n",
            " [ 0.01388163 -0.2631197   0.42190391 -0.53612946  0.01058633 -0.04415909\n",
            "   0.29385139  0.49501812 -0.32731018  0.15669071]\n",
            " [-0.27340804  0.28220631  0.28945859 -0.1626885   0.14790418 -0.35915036\n",
            "  -0.64971879  0.23854611  0.29589227  0.1337842 ]\n",
            " [ 0.10830593  0.27974551 -0.20571161  0.10308827  0.10096026 -0.5325142\n",
            "   0.15994871 -0.16150892 -0.3941055   0.59692177]\n",
            " [ 0.44882085  0.34972045 -0.01773924 -0.50737391 -0.52251393  0.11970007\n",
            "  -0.02807841 -0.20137782  0.25705553  0.15409283]\n",
            " [-0.35599817 -0.05022624  0.63427946  0.20935183 -0.34847081  0.11510691\n",
            "   0.03182222 -0.47748403 -0.1161671   0.21777064]\n",
            " [ 0.18417681 -0.32168889  0.15954963 -0.32397524  0.5548368  -0.1807982\n",
            "   0.08626619 -0.55063636  0.28439362 -0.01119242]\n",
            " [-0.41560913  0.59522266  0.02089304 -0.23979844  0.13515565 -0.0893732\n",
            "   0.44674689 -0.10709455 -0.02239562 -0.42098815]]\n",
            "singular values of Y are :\n",
            "[4.89636645 1.42832104 1.17173389 0.94068764 0.76892251 0.62457278\n",
            " 0.52105948 0.28969576 0.24512275 0.09350223]\n",
            "the inverse of matrix Y is:\n",
            "[[ 2.31470983 -1.92264991  0.7642126   0.78096977 -2.74248585  1.20175092\n",
            "   0.38693174 -1.37664514 -0.96484143  0.83123246]\n",
            " [-2.24504111  1.25605742 -0.91466223 -0.39587642  4.71823627 -1.32162185\n",
            "   0.52594984  2.39368168  0.33051878 -2.33540101]\n",
            " [-1.41290916  0.66149939  0.94968095 -0.18869248 -0.50069581 -0.55664939\n",
            "  -0.55275157  0.57384943 -0.04209635  1.11025544]\n",
            " [ 0.88051129  0.37055438  0.15632501  1.25248223 -1.81219563 -0.7249179\n",
            "  -0.19613524 -1.81766381  0.56943994  0.52226388]\n",
            " [ 0.39743656 -0.28842728 -1.09880632 -1.57965965  0.36480771  0.90235521\n",
            "  -0.47743451  2.09911148  0.53638288 -0.04562024]\n",
            " [ 0.36068175  0.22958502  0.33426258  0.10367281 -0.06700744 -0.37158555\n",
            "   0.22972702 -1.26286862 -0.45133033  0.75430018]\n",
            " [-2.01045364  0.19347423 -1.01393804 -0.74303568  3.56449935 -0.31892146\n",
            "  -0.67116163  2.01265699  0.72873355 -0.69454601]\n",
            " [ 1.18043988  0.86047396 -0.88991494  1.30425635 -0.14247318  0.69661973\n",
            "   0.5413572  -1.69774697 -0.60797727 -1.00698216]\n",
            " [-0.1679456  -0.63197036 -0.0540802  -0.73587818 -0.46423184  0.67805628\n",
            "   0.88551393  0.37662528 -0.03416891  0.42341327]\n",
            " [ 1.3938872  -0.74982353  1.96636643  1.00676681 -3.21953806  0.44078124\n",
            "  -0.40298654 -1.90114336 -0.04414834  0.55576763]]\n",
            "the matrix multiplication of X and Y is:\n",
            "[[2.95726101 2.04939653 3.09073485 3.22311637 1.78554985]\n",
            " [2.61266989 1.75663954 2.48635951 2.79783984 1.50654432]\n",
            " [2.98361778 2.02894044 2.82637865 2.88685728 1.69799548]\n",
            " [2.98565892 2.85485651 3.58995669 4.0073463  2.2697569 ]\n",
            " [2.49815821 1.97791033 2.77809758 2.71690515 1.59098767]\n",
            " [2.72146909 2.39905911 2.58780909 2.78212857 1.71792628]\n",
            " [2.22935358 1.74438251 2.94718357 2.48955906 2.05838199]\n",
            " [2.30476788 1.92350098 2.41698824 2.81379687 1.38016019]\n",
            " [2.91925254 2.36604123 3.53647969 3.30424184 2.52990887]\n",
            " [3.39559098 2.84629279 4.05845051 4.01068273 2.35816262]]\n",
            "the matrix multiplication of Y and inv_Y is:\n",
            "[[ 1.00000000e+00 -3.90793144e-17  3.65935406e-16  3.11342944e-16\n",
            "  -8.91983549e-16 -4.81506510e-17 -1.42655871e-16 -6.91246638e-16\n",
            "  -6.67910040e-17  1.33795870e-16]\n",
            " [ 1.42780307e-17  1.00000000e+00 -6.98095657e-17 -1.52151045e-16\n",
            "  -4.63427918e-16 -1.05178821e-16  4.44443766e-17 -9.87040861e-17\n",
            "   1.06466168e-16 -1.58597206e-16]\n",
            " [-1.44191947e-17 -4.68953161e-17  1.00000000e+00  4.77076242e-17\n",
            "  -6.49165003e-16 -6.78141792e-17 -9.36855690e-18 -9.73600834e-16\n",
            "  -3.16087494e-17 -1.18238356e-16]\n",
            " [-1.41735142e-16  2.10254036e-16  1.43559668e-17  1.00000000e+00\n",
            "   5.52648957e-17 -8.23073740e-18 -1.72594927e-18  7.33409702e-17\n",
            "   4.69571374e-17 -2.73245897e-16]\n",
            " [-1.71385362e-17 -3.79289464e-18 -2.27088068e-16  1.03307474e-16\n",
            "   1.00000000e+00 -2.64623779e-17  1.14447652e-16  2.15787383e-17\n",
            "  -1.42660749e-17 -2.17474454e-16]\n",
            " [-8.26384805e-17  1.20440776e-16 -4.69445243e-17 -3.74729367e-17\n",
            "   9.72134814e-16  1.00000000e+00  1.81161593e-17  2.13127233e-16\n",
            "  -7.72471485e-17 -1.30656837e-16]\n",
            " [ 3.53786975e-16  2.66066463e-18 -6.15228131e-17  1.38960755e-16\n",
            "  -1.33510130e-15  2.62173396e-17  1.00000000e+00 -3.76182195e-16\n",
            "  -7.02445804e-17  2.06159764e-16]\n",
            " [-2.75842016e-16 -7.28598118e-17 -2.34103860e-16  2.80898127e-17\n",
            "  -1.39319386e-16  1.41600267e-16 -4.52961673e-17  1.00000000e+00\n",
            "  -2.64462855e-17 -7.90426564e-17]\n",
            " [-6.53027597e-17  1.25653075e-16  5.18133677e-17  1.96668895e-17\n",
            "  -3.92404830e-16 -2.59855724e-17  2.19914269e-18  2.18871633e-17\n",
            "   1.00000000e+00 -5.87793126e-18]\n",
            " [-1.92650595e-16  2.94720021e-16  1.10584317e-16  1.69940671e-16\n",
            "   3.19180173e-16 -1.66979037e-17 -4.43339340e-17  3.56743742e-17\n",
            "  -9.06248767e-18  1.00000000e+00]]\n"
          ],
          "name": "stdout"
        },
        {
          "output_type": "stream",
          "text": [
            "/usr/local/lib/python3.6/dist-packages/ipykernel_launcher.py:26: FutureWarning: elementwise comparison failed; returning scalar instead, but in the future will perform elementwise comparison\n"
          ],
          "name": "stderr"
        }
      ]
    },
    {
      "cell_type": "markdown",
      "metadata": {
        "id": "Qne3RnfOL6-4",
        "colab_type": "text"
      },
      "source": [
        "## End of Part - 1\n",
        " --- --- ---"
      ]
    },
    {
      "cell_type": "markdown",
      "metadata": {
        "id": "LA-m4UYkMPTe",
        "colab_type": "text"
      },
      "source": [
        "## Part - 2\n",
        "---\n",
        "In this part, you will be working with the library ```pandas```. Import this library with an alias name ```pd```."
      ]
    },
    {
      "cell_type": "code",
      "metadata": {
        "id": "i8z7TpnZSIms",
        "colab_type": "code",
        "colab": {}
      },
      "source": [
        "# Initial imports\n",
        "import numpy as np\n",
        "import matplotlib.pyplot as plt\n"
      ],
      "execution_count": 0,
      "outputs": []
    },
    {
      "cell_type": "markdown",
      "metadata": {
        "id": "2v-HkHnyuQ3X",
        "colab_type": "text"
      },
      "source": [
        "Download dataset from: http://biostat.mc.vanderbilt.edu/wiki/pub/Main/DataSets/titanic3.csv\n",
        "Read the data and display the first 5 rows"
      ]
    },
    {
      "cell_type": "code",
      "metadata": {
        "id": "LinX5ywNTUIm",
        "colab_type": "code",
        "colab": {}
      },
      "source": [
        "#Download dataset from: http://biostat.mc.vanderbilt.edu/wiki/pub/Main/DataSets/titanic3.csv\n",
        "\n",
        "file_url = \"http://biostat.mc.vanderbilt.edu/wiki/pub/Main/DataSets/titanic3.csv\"\n",
        "\n"
      ],
      "execution_count": 0,
      "outputs": []
    },
    {
      "cell_type": "markdown",
      "metadata": {
        "id": "vTk1-mF5WYFN",
        "colab_type": "text"
      },
      "source": [
        "### Preprocessing of the Dataset"
      ]
    },
    {
      "cell_type": "markdown",
      "metadata": {
        "id": "kx9UrI9WWt17",
        "colab_type": "text"
      },
      "source": [
        "\n",
        "\n",
        "---\n",
        "\n",
        "\n",
        "**1. Convert the categorical values of columns 'sex', 'embarked', 'pclass' into dummy values and add them into titanic_data_new DataFrame**\n",
        "\n",
        "\n",
        "\n",
        "\n",
        "---\n",
        "\n"
      ]
    },
    {
      "cell_type": "code",
      "metadata": {
        "id": "AwDh9njbZ0QU",
        "colab_type": "code",
        "colab": {}
      },
      "source": [
        ""
      ],
      "execution_count": 0,
      "outputs": []
    },
    {
      "cell_type": "markdown",
      "metadata": {
        "id": "Z9bxOfzDbY-n",
        "colab_type": "text"
      },
      "source": [
        "\n",
        "\n",
        "---\n",
        "\n",
        "\n",
        "**2. Fill the missing data in Age and Fare columns with the mean value of the respected column then add these columns to titanic_data_new**\n",
        "\n",
        "\n",
        "---\n",
        "\n"
      ]
    },
    {
      "cell_type": "code",
      "metadata": {
        "id": "DNx7Pr0ehhAs",
        "colab_type": "code",
        "colab": {}
      },
      "source": [
        ""
      ],
      "execution_count": 0,
      "outputs": []
    },
    {
      "cell_type": "markdown",
      "metadata": {
        "id": "SlRzKfhxkd1M",
        "colab_type": "text"
      },
      "source": [
        "###Normalization\n",
        "\n",
        "\n",
        "---\n",
        "\n",
        "\n",
        "\n",
        "1. Normalize the columns which have numerical data\n",
        "\n",
        "\n",
        "\n",
        "---\n",
        "\n"
      ]
    },
    {
      "cell_type": "code",
      "metadata": {
        "id": "Y3hpu92TlM38",
        "colab_type": "code",
        "colab": {}
      },
      "source": [
        ""
      ],
      "execution_count": 0,
      "outputs": []
    },
    {
      "cell_type": "markdown",
      "metadata": {
        "id": "wB9-5x83mFAO",
        "colab_type": "text"
      },
      "source": [
        "\n",
        "\n",
        "---\n",
        "2. Drop the original age, fare columns\n",
        "3. Append the normalized columns to the titanic_data_new DataFrame.\n",
        "\n",
        "\n",
        "\n",
        "---\n",
        "\n"
      ]
    },
    {
      "cell_type": "code",
      "metadata": {
        "id": "Kb00kM0onQJy",
        "colab_type": "code",
        "colab": {}
      },
      "source": [
        ""
      ],
      "execution_count": 0,
      "outputs": []
    },
    {
      "cell_type": "markdown",
      "metadata": {
        "id": "uLxN3PozntKe",
        "colab_type": "text"
      },
      "source": [
        "###Plotting\n",
        "1. plot the age against the ID(continuous)\n",
        "2. plot the fare against the ID(scatter)"
      ]
    },
    {
      "cell_type": "code",
      "metadata": {
        "id": "LdSfNEKYn_RO",
        "colab_type": "code",
        "colab": {}
      },
      "source": [
        ""
      ],
      "execution_count": 0,
      "outputs": []
    },
    {
      "cell_type": "markdown",
      "metadata": {
        "id": "LQr7y6eevTvy",
        "colab_type": "text"
      },
      "source": [
        "## End of Part - 2\n",
        "---"
      ]
    },
    {
      "cell_type": "markdown",
      "metadata": {
        "id": "TWhZcKvfvW2B",
        "colab_type": "text"
      },
      "source": [
        "## Part - 3\n",
        "---"
      ]
    },
    {
      "cell_type": "markdown",
      "metadata": {
        "id": "8bY4H9DszQ2S",
        "colab_type": "text"
      },
      "source": [
        "In this part, you will work with the library ```matplotlib```. Import the ```pyplot``` from ```matplotlib``` with an alias name ```plt```."
      ]
    },
    {
      "cell_type": "code",
      "metadata": {
        "id": "hPN6qctRzknT",
        "colab_type": "code",
        "colab": {}
      },
      "source": [
        "import matplotlib.pyplot as plt"
      ],
      "execution_count": 0,
      "outputs": []
    },
    {
      "cell_type": "markdown",
      "metadata": {
        "id": "fQ6KX_Aezlub",
        "colab_type": "text"
      },
      "source": [
        "Plot the sine function with domain in $[-3\\pi,3\\pi]$. Label the axes appropriately. Add title $\\sin(x)$. Use latex formatting while adding the title. Set the plot size to (10,10)"
      ]
    },
    {
      "cell_type": "code",
      "metadata": {
        "id": "0tA3J5mA1cQ0",
        "colab_type": "code",
        "colab": {
          "base_uri": "https://localhost:8080/",
          "height": 609
        },
        "outputId": "18ec9548-4163-43c8-e039-a9f49fbcb9da"
      },
      "source": [
        "plt.figure(figsize=(10,10))\n",
        "x = np.arange(-3*np.pi,3.0*np.pi, 0.01*np.pi)\n",
        "s = np.sin(x)\n",
        "line, = plt.plot(x, s, lw=2)\n",
        "plt.ylim(-2, 2)\n",
        "plt.title(r'$y = sin(x)$')\n",
        "plt.show()"
      ],
      "execution_count": 31,
      "outputs": [
        {
          "output_type": "display_data",
          "data": {
            "image/png": "[encoded data removed]",
            "text/plain": [
              "<Figure size 720x720 with 1 Axes>"
            ]
          },
          "metadata": {
            "tags": [],
            "needs_background": "light"
          }
        }
      ]
    },
    {
      "cell_type": "markdown",
      "metadata": {
        "id": "6KV7RqMm1d8P",
        "colab_type": "text"
      },
      "source": [
        "Plot $\\sin(x)$ and its spectrum, $\\cos(x)$ and its spectrum in a single plot, in the domain $[-2\\pi,2\\pi]$. Label the plot appropriately."
      ]
    },
    {
      "cell_type": "code",
      "metadata": {
        "id": "-OJuY0HO12Oo",
        "colab_type": "code",
        "colab": {}
      },
      "source": [
        ""
      ],
      "execution_count": 0,
      "outputs": []
    },
    {
      "cell_type": "markdown",
      "metadata": {
        "id": "1S6ZRm6B18ZF",
        "colab_type": "text"
      },
      "source": [
        "## End of Part - 3\n",
        "---"
      ]
    },
    {
      "cell_type": "markdown",
      "metadata": {
        "id": "MUucpzXBl096",
        "colab_type": "text"
      },
      "source": [
        "Create a Github repository with the name ***SHALA2020*** and save this assignment there."
      ]
    }
  ]
}